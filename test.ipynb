{
 "cells": [
  {
   "cell_type": "code",
   "execution_count": 72,
   "id": "feddbc43",
   "metadata": {},
   "outputs": [],
   "source": [
    "import pandas as pd\n",
    "import seaborn as sns\n",
    "import matplotlib.pyplot as plt\n",
    "from sklearn.preprocessing import MultiLabelBinarizer\n",
    "from sklearn.model_selection import train_test_split, GridSearchCV\n",
    "from sklearn.multioutput import MultiOutputClassifier\n",
    "from sklearn.neighbors import KNeighborsClassifier\n",
    "from sklearn.metrics import accuracy_score\n",
    "from sklearn.preprocessing import StandardScaler\n",
    "from sklearn.metrics import hamming_loss, f1_score"
   ]
  },
  {
   "cell_type": "code",
   "execution_count": 69,
   "id": "1b3e12ab",
   "metadata": {},
   "outputs": [],
   "source": [
    "data = pd.read_csv(r\"C:\\Users\\corbi\\.cache\\kagglehub\\datasets\\melissamonfared\\board-games\\versions\\1\\BGG_Data_Set.csv\", encoding='ISO-8859-1')\n",
    "# Replace NaN values with empty strings\n",
    "data['Mechanics'] = data['Mechanics'].fillna('')\n",
    "data['Domains'] = data['Domains'].fillna('')\n",
    "\n",
    "# Remove rows where 'Domains' is still empty\n",
    "data = data[data['Domains'] != \"\"]\n",
    "data = data.reset_index(drop=True)\n",
    "\n",
    "# Split strings into lists and clean them\n",
    "data['Mechanics'] = data['Mechanics'].str.split(', ').apply(lambda x: [item.strip() for item in x if item.strip()])\n",
    "data['Domains'] = data['Domains'].str.split(', ').apply(lambda x: [item.strip() for item in x if item.strip()])\n",
    "\n",
    "scaler = StandardScaler()\n",
    "scaled_numeric = scaler.fit_transform(data[['Min Players', 'Max Players', 'Play Time', 'Min Age', 'Rating Average', 'BGG Rank', 'Complexity Average']])\n",
    "scaled_numeric_df = pd.DataFrame(scaled_numeric, columns=['Min Players', 'Max Players', 'Play Time', 'Min Age', 'Rating Average', 'BGG Rank', 'Complexity Average'])\n",
    "\n",
    "# Binarize the cleaned lists\n",
    "mlb = MultiLabelBinarizer()\n",
    "attribute_matrix = pd.DataFrame(mlb.fit_transform(data['Mechanics']), columns=mlb.classes_)\n",
    "domain_matrix = pd.DataFrame(mlb.fit_transform(data['Domains']), columns=mlb.classes_)\n",
    "\n",
    "# Build feature matrix from the same filtered `data`\n",
    "feature_matrix = pd.concat([scaled_numeric_df, attribute_matrix], axis=1)\n"
   ]
  },
  {
   "cell_type": "code",
   "execution_count": 129,
   "id": "e2c087af",
   "metadata": {},
   "outputs": [],
   "source": [
    "x_train, x_test, y_train, y_test = train_test_split(feature_matrix, domain_matrix, test_size=0.2, random_state=42)\n"
   ]
  },
  {
   "cell_type": "code",
   "execution_count": 71,
   "id": "6787f97c",
   "metadata": {},
   "outputs": [
    {
     "name": "stdout",
     "output_type": "stream",
     "text": [
      "Best KNN parameters: {'estimator__metric': 'manhattan', 'estimator__n_neighbors': 11, 'estimator__weights': 'distance'}\n"
     ]
    }
   ],
   "source": [
    "knn = MultiOutputClassifier(KNeighborsClassifier())\n",
    "\n",
    "param_grid_knn = {\n",
    "    'estimator__n_neighbors': [10,11,12],\n",
    "    'estimator__weights': ['uniform', 'distance'],\n",
    "    'estimator__metric': ['euclidean', 'manhattan']\n",
    "}\n",
    "knn_grid = GridSearchCV(knn, param_grid_knn, cv=5)\n",
    "knn_grid.fit(x_train, y_train)\n",
    "print(\"Best KNN parameters:\", knn_grid.best_params_)"
   ]
  },
  {
   "cell_type": "code",
   "execution_count": 130,
   "id": "807fb02d",
   "metadata": {},
   "outputs": [
    {
     "name": "stdout",
     "output_type": "stream",
     "text": [
      "KNN Accuracy: 0.6200294550810015\n",
      "Hamming Loss: 0.0703240058910162\n",
      "F1 Score (micro): 0.729589428975932\n",
      "F1 Score (macro): 0.6247459019197275\n"
     ]
    }
   ],
   "source": [
    "\n",
    "y_pred = knn_grid.best_estimator_.predict(x_test)\n",
    "accuracy = accuracy_score(y_test, y_pred)\n",
    "print(f\"KNN Accuracy: {accuracy}\")\n",
    "print(\"Hamming Loss:\", hamming_loss(y_test, y_pred))\n",
    "print(\"F1 Score (micro):\", f1_score(y_test, y_pred, average='micro'))\n",
    "print(\"F1 Score (macro):\", f1_score(y_test, y_pred, average='macro'))"
   ]
  }
 ],
 "metadata": {
  "kernelspec": {
   "display_name": "Python 3",
   "language": "python",
   "name": "python3"
  },
  "language_info": {
   "codemirror_mode": {
    "name": "ipython",
    "version": 3
   },
   "file_extension": ".py",
   "mimetype": "text/x-python",
   "name": "python",
   "nbconvert_exporter": "python",
   "pygments_lexer": "ipython3",
   "version": "3.13.1"
  }
 },
 "nbformat": 4,
 "nbformat_minor": 5
}
